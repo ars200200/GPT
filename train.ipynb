{
 "cells": [
  {
   "cell_type": "code",
   "execution_count": 4,
   "metadata": {},
   "outputs": [
    {
     "name": "stdout",
     "output_type": "stream",
     "text": [
      "--2025-01-01 19:52:22--  https://raw.githubusercontent.com/karpathy/char-rnn/master/data/tinyshakespeare/input.txt\n",
      "Resolving raw.githubusercontent.com (raw.githubusercontent.com)... 185.199.111.133, 185.199.108.133, 185.199.109.133, ...\n",
      "Connecting to raw.githubusercontent.com (raw.githubusercontent.com)|185.199.111.133|:443... connected.\n",
      "HTTP request sent, awaiting response... "
     ]
    },
    {
     "name": "stdout",
     "output_type": "stream",
     "text": [
      "200 OK\n",
      "Length: 1115394 (1,1M) [text/plain]\n",
      "Saving to: ‘input.txt.1’\n",
      "\n",
      "input.txt.1         100%[===================>]   1,06M   690KB/s    in 1,6s    \n",
      "\n",
      "2025-01-01 19:52:24 (690 KB/s) - ‘input.txt.1’ saved [1115394/1115394]\n",
      "\n"
     ]
    }
   ],
   "source": [
    "!wget https://raw.githubusercontent.com/karpathy/char-rnn/master/data/tinyshakespeare/input.txt"
   ]
  },
  {
   "cell_type": "code",
   "execution_count": 6,
   "metadata": {},
   "outputs": [],
   "source": [
    "from model import Za_kar_yan_GPT"
   ]
  },
  {
   "cell_type": "code",
   "execution_count": 7,
   "metadata": {},
   "outputs": [],
   "source": [
    "import json\n",
    "from dataclasses import dataclass\n",
    "@dataclass\n",
    "class Config:\n",
    "\n",
    "    heads: int\n",
    "    dropout: float\n",
    "    embedding_size: int\n",
    "    dict_size: int\n",
    "    attention_dropout: float\n",
    "    hidden_layer_size: int\n",
    "    N_blocks: int\n",
    "\n",
    "\n",
    "\n",
    "    @staticmethod\n",
    "    def from_json_file(filepath: str) -> 'Config':\n",
    "        with open(filepath, 'r') as file:\n",
    "          data = json.load(file)\n",
    "          return Config(**data)\n",
    "\n",
    "config = Config.from_json_file('config/config.json')"
   ]
  },
  {
   "cell_type": "code",
   "execution_count": 8,
   "metadata": {},
   "outputs": [
    {
     "data": {
      "text/plain": [
       "Za_kar_yan_GPT(\n",
       "  (embedding): Embedding(50259, 512)\n",
       "  (position_emb): Embedding(50259, 512)\n",
       "  (blocks): Sequential(\n",
       "    (0): Block(\n",
       "      (att): MultiHeadAttention(\n",
       "        (query): Linear(in_features=512, out_features=512, bias=False)\n",
       "        (key): Linear(in_features=512, out_features=512, bias=False)\n",
       "        (value): Linear(in_features=512, out_features=512, bias=False)\n",
       "        (att_dropout): Dropout(p=0.1, inplace=False)\n",
       "        (linear): Linear(in_features=512, out_features=512, bias=True)\n",
       "        (after_linear_dropout): Dropout(p=0.1, inplace=False)\n",
       "      )\n",
       "      (layernorm1): LayerNorm((512,), eps=1e-05, elementwise_affine=True)\n",
       "      (mlp): FullyConnected(\n",
       "        (linear1): Linear(in_features=512, out_features=2560, bias=True)\n",
       "        (activation): GELU(approximate='tanh')\n",
       "        (linear2): Linear(in_features=2560, out_features=512, bias=True)\n",
       "        (dropout): Dropout(p=0.1, inplace=False)\n",
       "      )\n",
       "      (layernorm2): LayerNorm((512,), eps=1e-05, elementwise_affine=True)\n",
       "    )\n",
       "    (1): Block(\n",
       "      (att): MultiHeadAttention(\n",
       "        (query): Linear(in_features=512, out_features=512, bias=False)\n",
       "        (key): Linear(in_features=512, out_features=512, bias=False)\n",
       "        (value): Linear(in_features=512, out_features=512, bias=False)\n",
       "        (att_dropout): Dropout(p=0.1, inplace=False)\n",
       "        (linear): Linear(in_features=512, out_features=512, bias=True)\n",
       "        (after_linear_dropout): Dropout(p=0.1, inplace=False)\n",
       "      )\n",
       "      (layernorm1): LayerNorm((512,), eps=1e-05, elementwise_affine=True)\n",
       "      (mlp): FullyConnected(\n",
       "        (linear1): Linear(in_features=512, out_features=2560, bias=True)\n",
       "        (activation): GELU(approximate='tanh')\n",
       "        (linear2): Linear(in_features=2560, out_features=512, bias=True)\n",
       "        (dropout): Dropout(p=0.1, inplace=False)\n",
       "      )\n",
       "      (layernorm2): LayerNorm((512,), eps=1e-05, elementwise_affine=True)\n",
       "    )\n",
       "    (2): Block(\n",
       "      (att): MultiHeadAttention(\n",
       "        (query): Linear(in_features=512, out_features=512, bias=False)\n",
       "        (key): Linear(in_features=512, out_features=512, bias=False)\n",
       "        (value): Linear(in_features=512, out_features=512, bias=False)\n",
       "        (att_dropout): Dropout(p=0.1, inplace=False)\n",
       "        (linear): Linear(in_features=512, out_features=512, bias=True)\n",
       "        (after_linear_dropout): Dropout(p=0.1, inplace=False)\n",
       "      )\n",
       "      (layernorm1): LayerNorm((512,), eps=1e-05, elementwise_affine=True)\n",
       "      (mlp): FullyConnected(\n",
       "        (linear1): Linear(in_features=512, out_features=2560, bias=True)\n",
       "        (activation): GELU(approximate='tanh')\n",
       "        (linear2): Linear(in_features=2560, out_features=512, bias=True)\n",
       "        (dropout): Dropout(p=0.1, inplace=False)\n",
       "      )\n",
       "      (layernorm2): LayerNorm((512,), eps=1e-05, elementwise_affine=True)\n",
       "    )\n",
       "    (3): Block(\n",
       "      (att): MultiHeadAttention(\n",
       "        (query): Linear(in_features=512, out_features=512, bias=False)\n",
       "        (key): Linear(in_features=512, out_features=512, bias=False)\n",
       "        (value): Linear(in_features=512, out_features=512, bias=False)\n",
       "        (att_dropout): Dropout(p=0.1, inplace=False)\n",
       "        (linear): Linear(in_features=512, out_features=512, bias=True)\n",
       "        (after_linear_dropout): Dropout(p=0.1, inplace=False)\n",
       "      )\n",
       "      (layernorm1): LayerNorm((512,), eps=1e-05, elementwise_affine=True)\n",
       "      (mlp): FullyConnected(\n",
       "        (linear1): Linear(in_features=512, out_features=2560, bias=True)\n",
       "        (activation): GELU(approximate='tanh')\n",
       "        (linear2): Linear(in_features=2560, out_features=512, bias=True)\n",
       "        (dropout): Dropout(p=0.1, inplace=False)\n",
       "      )\n",
       "      (layernorm2): LayerNorm((512,), eps=1e-05, elementwise_affine=True)\n",
       "    )\n",
       "    (4): Block(\n",
       "      (att): MultiHeadAttention(\n",
       "        (query): Linear(in_features=512, out_features=512, bias=False)\n",
       "        (key): Linear(in_features=512, out_features=512, bias=False)\n",
       "        (value): Linear(in_features=512, out_features=512, bias=False)\n",
       "        (att_dropout): Dropout(p=0.1, inplace=False)\n",
       "        (linear): Linear(in_features=512, out_features=512, bias=True)\n",
       "        (after_linear_dropout): Dropout(p=0.1, inplace=False)\n",
       "      )\n",
       "      (layernorm1): LayerNorm((512,), eps=1e-05, elementwise_affine=True)\n",
       "      (mlp): FullyConnected(\n",
       "        (linear1): Linear(in_features=512, out_features=2560, bias=True)\n",
       "        (activation): GELU(approximate='tanh')\n",
       "        (linear2): Linear(in_features=2560, out_features=512, bias=True)\n",
       "        (dropout): Dropout(p=0.1, inplace=False)\n",
       "      )\n",
       "      (layernorm2): LayerNorm((512,), eps=1e-05, elementwise_affine=True)\n",
       "    )\n",
       "    (5): Block(\n",
       "      (att): MultiHeadAttention(\n",
       "        (query): Linear(in_features=512, out_features=512, bias=False)\n",
       "        (key): Linear(in_features=512, out_features=512, bias=False)\n",
       "        (value): Linear(in_features=512, out_features=512, bias=False)\n",
       "        (att_dropout): Dropout(p=0.1, inplace=False)\n",
       "        (linear): Linear(in_features=512, out_features=512, bias=True)\n",
       "        (after_linear_dropout): Dropout(p=0.1, inplace=False)\n",
       "      )\n",
       "      (layernorm1): LayerNorm((512,), eps=1e-05, elementwise_affine=True)\n",
       "      (mlp): FullyConnected(\n",
       "        (linear1): Linear(in_features=512, out_features=2560, bias=True)\n",
       "        (activation): GELU(approximate='tanh')\n",
       "        (linear2): Linear(in_features=2560, out_features=512, bias=True)\n",
       "        (dropout): Dropout(p=0.1, inplace=False)\n",
       "      )\n",
       "      (layernorm2): LayerNorm((512,), eps=1e-05, elementwise_affine=True)\n",
       "    )\n",
       "    (6): Block(\n",
       "      (att): MultiHeadAttention(\n",
       "        (query): Linear(in_features=512, out_features=512, bias=False)\n",
       "        (key): Linear(in_features=512, out_features=512, bias=False)\n",
       "        (value): Linear(in_features=512, out_features=512, bias=False)\n",
       "        (att_dropout): Dropout(p=0.1, inplace=False)\n",
       "        (linear): Linear(in_features=512, out_features=512, bias=True)\n",
       "        (after_linear_dropout): Dropout(p=0.1, inplace=False)\n",
       "      )\n",
       "      (layernorm1): LayerNorm((512,), eps=1e-05, elementwise_affine=True)\n",
       "      (mlp): FullyConnected(\n",
       "        (linear1): Linear(in_features=512, out_features=2560, bias=True)\n",
       "        (activation): GELU(approximate='tanh')\n",
       "        (linear2): Linear(in_features=2560, out_features=512, bias=True)\n",
       "        (dropout): Dropout(p=0.1, inplace=False)\n",
       "      )\n",
       "      (layernorm2): LayerNorm((512,), eps=1e-05, elementwise_affine=True)\n",
       "    )\n",
       "    (7): Block(\n",
       "      (att): MultiHeadAttention(\n",
       "        (query): Linear(in_features=512, out_features=512, bias=False)\n",
       "        (key): Linear(in_features=512, out_features=512, bias=False)\n",
       "        (value): Linear(in_features=512, out_features=512, bias=False)\n",
       "        (att_dropout): Dropout(p=0.1, inplace=False)\n",
       "        (linear): Linear(in_features=512, out_features=512, bias=True)\n",
       "        (after_linear_dropout): Dropout(p=0.1, inplace=False)\n",
       "      )\n",
       "      (layernorm1): LayerNorm((512,), eps=1e-05, elementwise_affine=True)\n",
       "      (mlp): FullyConnected(\n",
       "        (linear1): Linear(in_features=512, out_features=2560, bias=True)\n",
       "        (activation): GELU(approximate='tanh')\n",
       "        (linear2): Linear(in_features=2560, out_features=512, bias=True)\n",
       "        (dropout): Dropout(p=0.1, inplace=False)\n",
       "      )\n",
       "      (layernorm2): LayerNorm((512,), eps=1e-05, elementwise_affine=True)\n",
       "    )\n",
       "    (8): Block(\n",
       "      (att): MultiHeadAttention(\n",
       "        (query): Linear(in_features=512, out_features=512, bias=False)\n",
       "        (key): Linear(in_features=512, out_features=512, bias=False)\n",
       "        (value): Linear(in_features=512, out_features=512, bias=False)\n",
       "        (att_dropout): Dropout(p=0.1, inplace=False)\n",
       "        (linear): Linear(in_features=512, out_features=512, bias=True)\n",
       "        (after_linear_dropout): Dropout(p=0.1, inplace=False)\n",
       "      )\n",
       "      (layernorm1): LayerNorm((512,), eps=1e-05, elementwise_affine=True)\n",
       "      (mlp): FullyConnected(\n",
       "        (linear1): Linear(in_features=512, out_features=2560, bias=True)\n",
       "        (activation): GELU(approximate='tanh')\n",
       "        (linear2): Linear(in_features=2560, out_features=512, bias=True)\n",
       "        (dropout): Dropout(p=0.1, inplace=False)\n",
       "      )\n",
       "      (layernorm2): LayerNorm((512,), eps=1e-05, elementwise_affine=True)\n",
       "    )\n",
       "    (9): Block(\n",
       "      (att): MultiHeadAttention(\n",
       "        (query): Linear(in_features=512, out_features=512, bias=False)\n",
       "        (key): Linear(in_features=512, out_features=512, bias=False)\n",
       "        (value): Linear(in_features=512, out_features=512, bias=False)\n",
       "        (att_dropout): Dropout(p=0.1, inplace=False)\n",
       "        (linear): Linear(in_features=512, out_features=512, bias=True)\n",
       "        (after_linear_dropout): Dropout(p=0.1, inplace=False)\n",
       "      )\n",
       "      (layernorm1): LayerNorm((512,), eps=1e-05, elementwise_affine=True)\n",
       "      (mlp): FullyConnected(\n",
       "        (linear1): Linear(in_features=512, out_features=2560, bias=True)\n",
       "        (activation): GELU(approximate='tanh')\n",
       "        (linear2): Linear(in_features=2560, out_features=512, bias=True)\n",
       "        (dropout): Dropout(p=0.1, inplace=False)\n",
       "      )\n",
       "      (layernorm2): LayerNorm((512,), eps=1e-05, elementwise_affine=True)\n",
       "    )\n",
       "    (10): Block(\n",
       "      (att): MultiHeadAttention(\n",
       "        (query): Linear(in_features=512, out_features=512, bias=False)\n",
       "        (key): Linear(in_features=512, out_features=512, bias=False)\n",
       "        (value): Linear(in_features=512, out_features=512, bias=False)\n",
       "        (att_dropout): Dropout(p=0.1, inplace=False)\n",
       "        (linear): Linear(in_features=512, out_features=512, bias=True)\n",
       "        (after_linear_dropout): Dropout(p=0.1, inplace=False)\n",
       "      )\n",
       "      (layernorm1): LayerNorm((512,), eps=1e-05, elementwise_affine=True)\n",
       "      (mlp): FullyConnected(\n",
       "        (linear1): Linear(in_features=512, out_features=2560, bias=True)\n",
       "        (activation): GELU(approximate='tanh')\n",
       "        (linear2): Linear(in_features=2560, out_features=512, bias=True)\n",
       "        (dropout): Dropout(p=0.1, inplace=False)\n",
       "      )\n",
       "      (layernorm2): LayerNorm((512,), eps=1e-05, elementwise_affine=True)\n",
       "    )\n",
       "    (11): Block(\n",
       "      (att): MultiHeadAttention(\n",
       "        (query): Linear(in_features=512, out_features=512, bias=False)\n",
       "        (key): Linear(in_features=512, out_features=512, bias=False)\n",
       "        (value): Linear(in_features=512, out_features=512, bias=False)\n",
       "        (att_dropout): Dropout(p=0.1, inplace=False)\n",
       "        (linear): Linear(in_features=512, out_features=512, bias=True)\n",
       "        (after_linear_dropout): Dropout(p=0.1, inplace=False)\n",
       "      )\n",
       "      (layernorm1): LayerNorm((512,), eps=1e-05, elementwise_affine=True)\n",
       "      (mlp): FullyConnected(\n",
       "        (linear1): Linear(in_features=512, out_features=2560, bias=True)\n",
       "        (activation): GELU(approximate='tanh')\n",
       "        (linear2): Linear(in_features=2560, out_features=512, bias=True)\n",
       "        (dropout): Dropout(p=0.1, inplace=False)\n",
       "      )\n",
       "      (layernorm2): LayerNorm((512,), eps=1e-05, elementwise_affine=True)\n",
       "    )\n",
       "  )\n",
       "  (linear): Linear(in_features=512, out_features=50259, bias=True)\n",
       ")"
      ]
     },
     "execution_count": 8,
     "metadata": {},
     "output_type": "execute_result"
    }
   ],
   "source": [
    "model = Za_kar_yan_GPT(config)\n",
    "model"
   ]
  },
  {
   "cell_type": "code",
   "execution_count": 9,
   "metadata": {},
   "outputs": [
    {
     "name": "stdout",
     "output_type": "stream",
     "text": [
      "Wed Jan  1 23:52:33 2025       \n",
      "+---------------------------------------------------------------------------------------+\n",
      "| NVIDIA-SMI 535.183.01             Driver Version: 535.183.01   CUDA Version: 12.2     |\n",
      "|-----------------------------------------+----------------------+----------------------+\n",
      "| GPU  Name                 Persistence-M | Bus-Id        Disp.A | Volatile Uncorr. ECC |\n",
      "| Fan  Temp   Perf          Pwr:Usage/Cap |         Memory-Usage | GPU-Util  Compute M. |\n",
      "|                                         |                      |               MIG M. |\n",
      "|=========================================+======================+======================|\n",
      "|   0  NVIDIA GeForce RTX 4090        Off | 00000000:01:00.0 Off |                  Off |\n",
      "|  0%   41C    P8              19W / 450W |  13367MiB / 24564MiB |      0%      Default |\n",
      "|                                         |                      |                  N/A |\n",
      "+-----------------------------------------+----------------------+----------------------+\n",
      "|   1  NVIDIA GeForce RTX 4090        Off | 00000000:07:00.0 Off |                  Off |\n",
      "|  0%   45C    P8              10W / 450W |   2679MiB / 24564MiB |      0%      Default |\n",
      "|                                         |                      |                  N/A |\n",
      "+-----------------------------------------+----------------------+----------------------+\n",
      "                                                                                         \n",
      "+---------------------------------------------------------------------------------------+\n",
      "| Processes:                                                                            |\n",
      "|  GPU   GI   CI        PID   Type   Process name                            GPU Memory |\n",
      "|        ID   ID                                                             Usage      |\n",
      "|=======================================================================================|\n",
      "|    0   N/A  N/A      1393      G   /usr/lib/xorg/Xorg                           35MiB |\n",
      "|    0   N/A  N/A      2851      G   /usr/lib/xorg/Xorg                          101MiB |\n",
      "|    0   N/A  N/A      2993      G   /usr/bin/gnome-shell                         67MiB |\n",
      "|    0   N/A  N/A      3494      G   /usr/libexec/gnome-initial-setup              6MiB |\n",
      "|    0   N/A  N/A   1618426      C   /home/tkhalimov/gpi_env/bin/python3        2770MiB |\n",
      "|    0   N/A  N/A   2805167      C   /home/vchurilov/env39/bin/python3.9        1948MiB |\n",
      "|    0   N/A  N/A   2823310      C   python                                     1802MiB |\n",
      "|    0   N/A  N/A   3141235      C   /home/vgai/venv3/bin/python3               4928MiB |\n",
      "|    0   N/A  N/A   3210153      C   /home/vbalaev/env_saiga/bin/python3        1650MiB |\n",
      "|    1   N/A  N/A      1393      G   /usr/lib/xorg/Xorg                            4MiB |\n",
      "|    1   N/A  N/A      2851      G   /usr/lib/xorg/Xorg                            4MiB |\n",
      "|    1   N/A  N/A   2457933      C   ...ateselkin/data/env_main/bin/python3     2654MiB |\n",
      "+---------------------------------------------------------------------------------------+\n"
     ]
    }
   ],
   "source": [
    "!nvidia-smi"
   ]
  },
  {
   "cell_type": "code",
   "execution_count": 10,
   "metadata": {},
   "outputs": [],
   "source": [
    "with open('input.txt') as f:\n",
    "    text = f.read()"
   ]
  },
  {
   "cell_type": "code",
   "execution_count": 11,
   "metadata": {},
   "outputs": [],
   "source": [
    "import random\n",
    "import re\n",
    "def split_all_text_into_chunks(text, begin, end):\n",
    "    chunks = []\n",
    "    splitted_text = re.split(r'\\n\\n', text)\n",
    "\n",
    "    \n",
    "    pointer = 0\n",
    "    while pointer < len(splitted_text):\n",
    "        random_int = random.randint(begin, end)\n",
    "        chunks.append('\\n\\n'.join(splitted_text[pointer: min(pointer+random_int, len(splitted_text))]))\n",
    "        pointer += random_int\n",
    "\n",
    "    return chunks"
   ]
  },
  {
   "cell_type": "code",
   "execution_count": 12,
   "metadata": {},
   "outputs": [],
   "source": [
    "chunks = split_all_text_into_chunks(text, 1, 2)"
   ]
  },
  {
   "cell_type": "code",
   "execution_count": 13,
   "metadata": {},
   "outputs": [],
   "source": [
    "from transformers import GPT2Tokenizer\n",
    "tokenizer = GPT2Tokenizer.from_pretrained(\"gpt2\", bos_token='<|beginoftext|>', pad_token='<|padding|>')\n"
   ]
  },
  {
   "cell_type": "code",
   "execution_count": 14,
   "metadata": {},
   "outputs": [],
   "source": [
    "from typing import List, Tuple\n",
    "def preprocess_data(chunks: List[List[str]]) -> Tuple[List[List[str]], List[List[int]]]:\n",
    "    \n",
    "\n",
    "    bos_token = tokenizer.bos_token_id\n",
    "    chunks_ids = []\n",
    "    for chunk in chunks:\n",
    "        ids = [bos_token] + tokenizer.encode(chunk, )\n",
    "        chunks_ids.append(ids)\n",
    "\n",
    "    return chunks_ids"
   ]
  },
  {
   "cell_type": "code",
   "execution_count": 15,
   "metadata": {},
   "outputs": [],
   "source": [
    "chunks_ids = preprocess_data(chunks)"
   ]
  },
  {
   "cell_type": "code",
   "execution_count": 16,
   "metadata": {},
   "outputs": [],
   "source": [
    "from sklearn.model_selection import train_test_split\n",
    "train, test = train_test_split(chunks_ids, test_size=0.1)"
   ]
  },
  {
   "cell_type": "code",
   "execution_count": 17,
   "metadata": {},
   "outputs": [],
   "source": [
    "sorted_train = sorted(train, key=len)"
   ]
  },
  {
   "cell_type": "code",
   "execution_count": 18,
   "metadata": {},
   "outputs": [],
   "source": [
    "import torch\n",
    "import random \n",
    "\n",
    "def generate_sorted_batches(chunks, batch_size=2):\n",
    "    sorted_chunks = sorted(chunks, key=len, reverse=True)\n",
    "\n",
    "    \n",
    "    for i in range(0, len(sorted_chunks), batch_size):\n",
    "        for j in range(i + 1, min(i+batch_size, len(sorted_chunks))):\n",
    "            sorted_chunks[j] += [tokenizer.pad_token_id] * (len(sorted_chunks[i]) - len(sorted_chunks[j]))\n",
    "\n",
    "        \n",
    "    while True:\n",
    "        random_int: int = random.choice(list(range(0, len(sorted_chunks) - batch_size, batch_size)))\n",
    "        yield (torch.LongTensor(sorted_chunks[random_int:random_int+batch_size])[:, :-1],\n",
    "              torch.LongTensor(sorted_chunks[random_int:random_int+batch_size])[:, 1:])"
   ]
  },
  {
   "cell_type": "code",
   "execution_count": 19,
   "metadata": {},
   "outputs": [
    {
     "name": "stdout",
     "output_type": "stream",
     "text": [
      "torch.Size([2, 90]) torch.Size([2, 90])\n"
     ]
    }
   ],
   "source": [
    "for tuple in generate_sorted_batches(sorted_train, batch_size=2):\n",
    "    print(tuple[0].shape, tuple[1].shape)\n",
    "    break"
   ]
  },
  {
   "cell_type": "code",
   "execution_count": 20,
   "metadata": {},
   "outputs": [],
   "source": [
    "device = torch.device('cuda:1' if torch.cuda.is_available() else 'cpu')\n",
    "model.to(device);"
   ]
  },
  {
   "cell_type": "code",
   "execution_count": 21,
   "metadata": {},
   "outputs": [
    {
     "data": {
      "text/plain": [
       "Parameter containing:\n",
       "tensor([[-1.4730,  0.3786,  0.2054,  ...,  0.5609,  0.8501, -2.0746],\n",
       "        [ 0.0869,  1.1776,  0.8506,  ...,  0.0262, -2.0620,  2.0986],\n",
       "        [-0.0385,  0.1684,  1.3348,  ..., -0.1637, -0.6233, -0.1614],\n",
       "        ...,\n",
       "        [-0.1941,  0.3584,  0.6629,  ...,  0.6695,  0.6511, -1.4852],\n",
       "        [ 2.3383, -0.1886, -1.8183,  ..., -1.1771,  0.2592, -0.3145],\n",
       "        [ 1.4504,  1.5005,  0.6376,  ...,  0.1469, -0.2995,  0.4401]],\n",
       "       device='cuda:1', requires_grad=True)"
      ]
     },
     "execution_count": 21,
     "metadata": {},
     "output_type": "execute_result"
    }
   ],
   "source": [
    "next(model.parameters())"
   ]
  },
  {
   "cell_type": "code",
   "execution_count": 22,
   "metadata": {},
   "outputs": [],
   "source": [
    "import torch.nn as nn \n",
    "from tqdm import tqdm\n",
    "from matplotlib import pyplot as plt\n",
    "from IPython.display import clear_output\n",
    "criterion = nn.CrossEntropyLoss(ignore_index=tokenizer.pad_token_id).to(device)\n",
    "optimizer = torch.optim.Adam(model.parameters(), lr=3e-4)"
   ]
  },
  {
   "cell_type": "code",
   "execution_count": 23,
   "metadata": {},
   "outputs": [],
   "source": [
    "batch_generation = generate_sorted_batches(sorted_train, batch_size=4)\n",
    "model.train();"
   ]
  },
  {
   "cell_type": "code",
   "execution_count": 27,
   "metadata": {},
   "outputs": [
    {
     "data": {
      "image/png": "[encoded data removed]",
      "text/plain": [
       "<Figure size 640x480 with 1 Axes>"
      ]
     },
     "metadata": {},
     "output_type": "display_data"
    },
    {
     "name": "stderr",
     "output_type": "stream",
     "text": [
      "100%|██████████| 50000/50000 [32:43<00:00, 25.47it/s]\n"
     ]
    }
   ],
   "source": [
    "all_losses = []\n",
    "model.to(device)\n",
    "for i in tqdm(range(50000)):\n",
    "   optimizer.zero_grad()\n",
    "   x, y = next(batch_generation)\n",
    "   x, y = x.to(device), y.to(device)\n",
    "   logits = model(x)\n",
    "   loss = criterion(logits.transpose(1, 2), y)\n",
    "   all_losses.append(loss.item())\n",
    "   loss.backward()    \n",
    "   optimizer.step()\n",
    "   if i % 100 == 0:\n",
    "      clear_output(True)\n",
    "      plt.plot(all_losses)\n",
    "      plt.show()"
   ]
  },
  {
   "cell_type": "code",
   "execution_count": 30,
   "metadata": {},
   "outputs": [
    {
     "data": {
      "text/plain": [
       "[0.766266405582428,\n",
       " 1.1850305795669556,\n",
       " 0.6228843331336975,\n",
       " 0.404852956533432,\n",
       " 0.10345175117254257,\n",
       " 0.44813084602355957,\n",
       " 0.44824859499931335,\n",
       " 0.20064839720726013,\n",
       " 0.2500579357147217,\n",
       " 0.4217204451560974]"
      ]
     },
     "execution_count": 30,
     "metadata": {},
     "output_type": "execute_result"
    }
   ],
   "source": [
    "all_losses[-10:]"
   ]
  },
  {
   "cell_type": "code",
   "execution_count": 81,
   "metadata": {},
   "outputs": [],
   "source": [
    "model.eval()\n",
    "\n",
    "@torch.no_grad()\n",
    "def generate(idx, max_new_tokens, temperature=1.0, top_k=None):\n",
    "    \n",
    "    for _ in range(max_new_tokens):\n",
    "\n",
    "        logits = model(idx)\n",
    "        logits = logits[:, -1, :] / temperature\n",
    "        probs = torch.nn.functional.softmax(logits, dim=-1)\n",
    "        idx_next = torch.multinomial(probs, num_samples=1)\n",
    "        idx = torch.cat((idx, idx_next), dim=1)\n",
    "    idx = idx[:, 1:]\n",
    "    return idx\n"
   ]
  },
  {
   "cell_type": "code",
   "execution_count": 82,
   "metadata": {},
   "outputs": [
    {
     "data": {
      "text/plain": [
       "tensor([[50257,    43,  9598,  3525,  9399,    25]])"
      ]
     },
     "execution_count": 82,
     "metadata": {},
     "output_type": "execute_result"
    }
   ],
   "source": [
    "inputs = tokenizer.encode('<|beginoftext|>LUCENTIO:', return_tensors='pt')\n",
    "inputs"
   ]
  },
  {
   "cell_type": "code",
   "execution_count": 92,
   "metadata": {},
   "outputs": [],
   "source": [
    "output = generate(inputs.to(device), 400, temperature=1)"
   ]
  },
  {
   "cell_type": "code",
   "execution_count": 93,
   "metadata": {},
   "outputs": [
    {
     "name": "stdout",
     "output_type": "stream",
     "text": [
      "LUCENTIO:\n",
      "A hundred then.\n",
      "\n",
      "Tailor:\n",
      " like the like to live.\n",
      "You shall be your daughter.\n",
      "I get me, follow him right Vincentio.\n",
      "Trow's hither come, in the war and dub him,\n",
      "And he doth me on his greatest promise-day,\n",
      "I thank my son:\n",
      "What dowry, and trouble him with a groanows you not.\n",
      "Dost as a sire, think you note, what with a bitter word?\n",
      "How in so grub with a bened\n",
      "The yourselves. He, what is the doth quit like a little heart, I hear a tear\n",
      "That in the one second hour.\n",
      "The heart that conn'd has sworn\n",
      "Faster than tears;\n",
      "That has our sea-w.\n",
      "\n",
      "The drop\n",
      "And most opportune to potherthe boy.\n",
      "And twenty pound a week best, sister to't and her grave with the subjects, then how quicklyr.\n",
      "That has our solemn.\n",
      "That his leather which is to friend nor enemy? What stars,\n",
      "The form 'Charge that there\n",
      "For he in heaven\n",
      "Which honour, it hath been this action.\n",
      "\n",
      "Here comes! my sovereign, God!--\n",
      "\n",
      "First Citizen:\n",
      "Wrench-wixt them well to't,\n",
      "A precious queen:\n",
      "This fair?\n",
      "What isle, and to wife water,\n",
      "What dadd sweet Kate of death himself to the foolish sevenary:\n",
      "My poor fools us to levy power\n",
      "Now, for his pate'd Lucent wife?\n",
      "What is't possible.\n",
      "Speaky virtues her closely at our death eats up that you what is God forbid\n",
      "Ay,\n",
      "Go,\n",
      "Noting on the earth's there?\n",
      "I'll not be holp may. How now, boy! bookss; and unw:\n",
      "There is no end of all from the spirit,\n",
      "But with mind,\n"
     ]
    }
   ],
   "source": [
    "print(tokenizer.decode(output[0].tolist()))"
   ]
  },
  {
   "cell_type": "code",
   "execution_count": 79,
   "metadata": {},
   "outputs": [],
   "source": [
    "torch.save(model.state_dict(), './Za-kar-yan-GPT.pt')"
   ]
  }
 ],
 "metadata": {
  "kernelspec": {
   "display_name": "Python 3",
   "language": "python",
   "name": "python3"
  },
  "language_info": {
   "codemirror_mode": {
    "name": "ipython",
    "version": 3
   },
   "file_extension": ".py",
   "mimetype": "text/x-python",
   "name": "python",
   "nbconvert_exporter": "python",
   "pygments_lexer": "ipython3",
   "version": "3.8.10"
  }
 },
 "nbformat": 4,
 "nbformat_minor": 2
}
